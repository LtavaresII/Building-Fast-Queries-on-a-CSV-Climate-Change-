{
 "cells": [
  {
   "cell_type": "markdown",
   "metadata": {},
   "source": [
    "<font size=\"6\">Building Fast Queries on a CSV</font>"
   ]
  },
  {
   "cell_type": "markdown",
   "metadata": {},
   "source": [
    "We will imagine that we are researchers monitoring the discourse about the climate changes on reddit, to find out what people think and discuss on this topic."
   ]
  },
  {
   "cell_type": "markdown",
   "metadata": {},
   "source": [
    "The goal of this project is to create a class that represent the comments about the climate changes on reddit. The methods in that class will implement the queries that we want to answer about our inventory. We will also preprocess that data to make those queries run faster."
   ]
  },
  {
   "cell_type": "code",
   "execution_count": 1,
   "metadata": {},
   "outputs": [
    {
     "name": "stdout",
     "output_type": "stream",
     "text": [
      "['type', 'id', 'subreddit.id', 'subreddit.name', 'subreddit.nsfw', 'created_utc', 'permalink', 'body', 'sentiment', 'score']\n",
      "['comment', 'imlddn9', '2qh3l', 'news', 'false', '1661990368', 'https://old.reddit.com/r/news/comments/x2cszk/us_life_expectancy_down_for_secondstraight_year/imlddn9/', 'Yeah but what the above commenter is saying is their base doesn’t want any of that. They detest all of those things, even the small gradual changes. Investing in nuclear energy is a tacit acknowledgement of man made climate change. Any acknowledgement or concession and they will be primaried out in a minute', '0.5719', '2']\n",
      "['comment', 'imldbeh', '2qn7b', 'ohio', 'false', '1661990340', 'https://old.reddit.com/r/Ohio/comments/x2awnp/state_government_may_soon_kill_a_solar_project_in/imldbeh/', \"Any comparison of efficiency between solar and fossil fuels is nonsensical at best and intentionally misleading at worst. In no universe is light -&gt; photovoltaic cell -&gt; electricity less efficient than light -&gt; entire food chain -&gt; biomass -&gt; decomposition -&gt; millions of years of geothermal heat and pressure -&gt; extraction -&gt; refining and transport -&gt; burning -&gt; turbine generator -&gt; electricity.\\n\\nUgly? More ugly than power lines, roads, apartment buildings, tractors, fences, etc etc etc? You're simply not used to it. Also, who cares? Sure, millions of people died in the displacement from sea rise, famines cause by climate change, and wars from resource scarcity, but thank God we didn't have to look at those solar panels occasionally.\\n\\nOffshore fracking? Fucks sake. Have you already forgotten the deepwater horizon disaster? Think about the damage that did to the gulf coast, add a few million barrels of highly toxic fracking fluid to the mix, and there you have our next major environmental disaster courtesy of offshore fracking. But oh man, those solar panels sure are ugly.\\n\\nStop repeating the lies fed to you by the people getting rich from fossil fuels, who couldn't care less about you or your descendants as long as they get theirs. We can deal with the less environmentally friendly aspects of solar power. We cannot deal with the consequences of continuing to pump carbon into the atmosphere. Y'all need to grow the fuck up and stop whining about the view.\", '-0.9877', '2']\n"
     ]
    }
   ],
   "source": [
    "from csv import reader\n",
    "\n",
    "opened_file = open('the-reddit-climate-change-dataset-comments.csv', encoding='UTF-8')\n",
    "read_file = reader(opened_file)\n",
    "rows = list(read_file)\n",
    "header = rows[0]\n",
    "rows = rows[1:]\n",
    "print(header)\n",
    "for i in range(2):\n",
    "    print(rows[i])"
   ]
  },
  {
   "cell_type": "markdown",
   "metadata": {},
   "source": [
    "<font size=\"5\">Reddit Class</font>"
   ]
  },
  {
   "cell_type": "markdown",
   "metadata": {},
   "source": [
    "Let's start by implementing the constructor. It will take the name of the CSV file as argument and then read the rows contained in self.header and self.rows."
   ]
  },
  {
   "cell_type": "code",
   "execution_count": 4,
   "metadata": {},
   "outputs": [
    {
     "name": "stdout",
     "output_type": "stream",
     "text": [
      "['type', 'id', 'subreddit.id', 'subreddit.name', 'subreddit.nsfw', 'created_utc', 'permalink', 'body', 'sentiment', 'score']\n",
      "4600698\n"
     ]
    }
   ],
   "source": [
    "class Reddit():\n",
    "    def __init__(self, csv_filename):\n",
    "        opened_file = open(csv_filename, encoding='UTF-8')\n",
    "        read_file = reader(opened_file)\n",
    "        rows = list(read_file)\n",
    "        self.header = rows[0]\n",
    "        self.rows = rows[1:]\n",
    "            \n",
    "reddit = Reddit('the-reddit-climate-change-dataset-comments.csv')\n",
    "print(reddit.header)\n",
    "print(len(reddit.rows))"
   ]
  },
  {
   "cell_type": "markdown",
   "metadata": {},
   "source": [
    "<font size=\"5\">Finding a Comment Form the Id</font>"
   ]
  },
  {
   "cell_type": "markdown",
   "metadata": {},
   "source": [
    "Throughout this project, we will make several improvements to the Comment class.<br>\n",
    "The first thing that we will implement is a way to look up a comment from a given identifier. In this way, we can register and analyze the comment that we think is relevant."
   ]
  },
  {
   "cell_type": "markdown",
   "metadata": {},
   "source": [
    "The idea is proceprocess the data into a dictionary where the keys are the IDs and the values the rows."
   ]
  },
  {
   "cell_type": "code",
   "execution_count": 2,
   "metadata": {},
   "outputs": [],
   "source": [
    "class Reddit():\n",
    "    def __init__(self, csv_filename):\n",
    "        opened_file = open(csv_filename, encoding='UTF-8')\n",
    "        read_file = reader(opened_file)\n",
    "        rows = list(read_file)\n",
    "        self.header = rows[0]\n",
    "        self.rows = rows[1:]\n",
    "        self.id_to_row = {}\n",
    "        for row in self.rows:\n",
    "            self.id_to_row[row[1]] = row\n",
    "            \n",
    "    def get_comment_from_id(self, comment_id):\n",
    "        if comment_id in self.id_to_row:\n",
    "            return self.id_to_row[comment_id]\n",
    "        return None"
   ]
  },
  {
   "cell_type": "markdown",
   "metadata": {},
   "source": [
    "<font size=\"4\">Test the code:</font>"
   ]
  },
  {
   "cell_type": "code",
   "execution_count": 3,
   "metadata": {},
   "outputs": [
    {
     "name": "stdout",
     "output_type": "stream",
     "text": [
      "['comment', 'imlddn9', '2qh3l', 'news', 'false', '1661990368', 'https://old.reddit.com/r/news/comments/x2cszk/us_life_expectancy_down_for_secondstraight_year/imlddn9/', 'Yeah but what the above commenter is saying is their base doesn’t want any of that. They detest all of those things, even the small gradual changes. Investing in nuclear energy is a tacit acknowledgement of man made climate change. Any acknowledgement or concession and they will be primaried out in a minute', '0.5719', '2']\n",
      "None\n"
     ]
    }
   ],
   "source": [
    "reddit = Reddit('the-reddit-climate-change-dataset-comments.csv')\n",
    "print(reddit.get_comment_from_id('imlddn9'))\n",
    "print(reddit.get_comment_from_id('imlddn8'))"
   ]
  },
  {
   "cell_type": "markdown",
   "metadata": {},
   "source": [
    "<font size=\"5\">Analized Sentiment</font>"
   ]
  },
  {
   "cell_type": "markdown",
   "metadata": {},
   "source": [
    "On our database, we have the analyzed sentiment of each comment, with the upper limit being defined as 1 and the lower limit as -1. This sentiments can be used to see how the comments were written, in a negative, neutral or positive way, which can inform us how this person sees the climate changes."
   ]
  },
  {
   "cell_type": "markdown",
   "metadata": {},
   "source": [
    "We will write a function that, given an interval between -1 and 1, return the messagens. The idea is proceprocess the data into a dictionary where the keys are the Sentiments and the values the rows."
   ]
  },
  {
   "cell_type": "code",
   "execution_count": null,
   "metadata": {},
   "outputs": [],
   "source": [
    "class Reddit():\n",
    "    def __init__(self, csv_filename):\n",
    "        opened_file = open(csv_filename, encoding='UTF-8')\n",
    "        read_file = reader(opened_file)\n",
    "        rows = list(read_file)\n",
    "        self.header = rows[0]\n",
    "        self.rows = rows[1:]\n",
    "        self.id_to_row = {}\n",
    "        for row in self.rows:\n",
    "            self.id_to_row[row[1]] = row\n",
    "        self.sentiment_to_row = {}\n",
    "        for row in self.rows:\n",
    "            self.sentiment_to_row[row[8]] = row\n",
    "            \n",
    "    def get_comment_from_id(self, comment_id):\n",
    "        if comment_id in self.id_to_row:\n",
    "            return self.id_to_row[comment_id]\n",
    "        return None\n",
    "    \n",
    "    def analized_sentiment(self, lim_inf, lim_sur):\n",
    "        list_sentiment = []\n",
    "        if lim_inf < -1 or lim_sur > 1:\n",
    "            return None\n",
    "        if lim_inf in self.sentiment_to_row and lim_sur in self.sentiment_to_row:\n",
    "            if self.sentiment_to_row > lim_inf and self.sentiment_to_row < lim_sur:\n",
    "                list_sentiment.append(self.sentiment_to_row)\n",
    "        return list_sentiment"
   ]
  },
  {
   "cell_type": "markdown",
   "metadata": {},
   "source": [
    "<font size=\"4\">Test the code:</font>"
   ]
  },
  {
   "cell_type": "code",
   "execution_count": null,
   "metadata": {},
   "outputs": [],
   "source": [
    "reddit = Reddit('the-reddit-climate-change-dataset-comments.csv')\n",
    "print(reddit.analized_sentiment(-0.5,0.5))\n",
    "print(reddit.analized_sentiment(-2,-1))"
   ]
  },
  {
   "cell_type": "markdown",
   "metadata": {},
   "source": [
    "<font size=\"5\">Comment Score</font>"
   ]
  },
  {
   "cell_type": "markdown",
   "metadata": {},
   "source": [
    "With the score atribute, we can determine which comments are the most highly rated and, consequently, the most important one."
   ]
  },
  {
   "cell_type": "markdown",
   "metadata": {},
   "source": [
    "We will write a function that, given an score, return two messagens whose sum of the \"score return\" column value is equal to the score."
   ]
  },
  {
   "cell_type": "code",
   "execution_count": null,
   "metadata": {},
   "outputs": [],
   "source": [
    "class Reddit():\n",
    "    def __init__(self, csv_filename):\n",
    "        opened_file = open(csv_filename, encoding='UTF-8')\n",
    "        read_file = reader(opened_file)\n",
    "        rows = list(read_file)\n",
    "        self.header = rows[0]\n",
    "        self.rows = rows[1:]\n",
    "        self.id_to_row = {}\n",
    "        for row in self.rows:\n",
    "            self.id_to_row[row[1]] = row\n",
    "        self.sentiment_to_row = {}\n",
    "        for row in self.rows:\n",
    "            self.sentiment_to_row[row[8]] = row\n",
    "        self.scores = set()\n",
    "        for row in self.rows:\n",
    "            self.scores.add(row[-1])\n",
    "            \n",
    "    def get_comment_from_id(self, comment_id):\n",
    "        if comment_id in self.id_to_row:\n",
    "            return self.id_to_row[comment_id]\n",
    "        return None\n",
    "    \n",
    "    def analized_sentiment(self, lim_inf, lim_sur):\n",
    "        list_sentiment = []\n",
    "        if lim_inf < -1 or lim_sur > 1:\n",
    "            return None\n",
    "        if lim_inf in self.sentiment_to_row and lim_sur in self.sentiment_to_row:\n",
    "            if self.sentiment_to_row > lim_inf and self.sentiment_to_row < lim_sur:\n",
    "                list_sentiment.append(self.sentiment_to_row)\n",
    "        return list_sentiment\n",
    "    \n",
    "    def score(self, score):\n",
    "        score_messagens = []\n",
    "        if score in self.scores:\n",
    "            score_messagens.append(self.scores[score])\n",
    "        else:\n",
    "            return -1\n",
    "        for scores in self.score:\n",
    "            if score - scores in self.scores:\n",
    "                score_messagens.append(self.scores[score - scores])\n",
    "        return score_messagens\n",
    "        "
   ]
  },
  {
   "cell_type": "code",
   "execution_count": null,
   "metadata": {},
   "outputs": [],
   "source": [
    "reddit = Reddit('the-reddit-climate-change-dataset-comments.csv')\n",
    "print(reddit.score(15))\n",
    "print(reddit.score(0))"
   ]
  }
 ],
 "metadata": {
  "kernelspec": {
   "display_name": "Python 3 (ipykernel)",
   "language": "python",
   "name": "python3"
  },
  "language_info": {
   "codemirror_mode": {
    "name": "ipython",
    "version": 3
   },
   "file_extension": ".py",
   "mimetype": "text/x-python",
   "name": "python",
   "nbconvert_exporter": "python",
   "pygments_lexer": "ipython3",
   "version": "3.9.12"
  }
 },
 "nbformat": 4,
 "nbformat_minor": 2
}
